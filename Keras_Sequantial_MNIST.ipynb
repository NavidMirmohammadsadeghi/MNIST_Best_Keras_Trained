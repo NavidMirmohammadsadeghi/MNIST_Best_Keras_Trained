{
  "nbformat": 4,
  "nbformat_minor": 0,
  "metadata": {
    "colab": {
      "name": "Untitled3.ipynb",
      "provenance": [],
      "include_colab_link": true
    },
    "kernelspec": {
      "name": "python3",
      "display_name": "Python 3"
    },
    "accelerator": "GPU"
  },
  "cells": [
    {
      "cell_type": "markdown",
      "metadata": {
        "id": "view-in-github",
        "colab_type": "text"
      },
      "source": [
        "<a href=\"https://colab.research.google.com/github/NavidMirmohammadsadeghi/MNIST_Best_Keras_Trained/blob/master/Keras_Sequantial_MNIST.ipynb\" target=\"_parent\"><img src=\"https://colab.research.google.com/assets/colab-badge.svg\" alt=\"Open In Colab\"/></a>"
      ]
    },
    {
      "cell_type": "code",
      "metadata": {
        "id": "-5jp3q8SfVk9",
        "colab_type": "code",
        "colab": {
          "base_uri": "https://localhost:8080/",
          "height": 34
        },
        "outputId": "5d935d50-bd14-498d-9ca4-1a10409b60a2"
      },
      "source": [
        "import pandas as pd\n",
        "import numpy as np\n",
        "import keras\n",
        "from keras.models import Sequential\n",
        "from keras.layers import Dense, Dropout, Flatten\n",
        "from keras.layers import Conv2D, MaxPooling2D\n",
        "from keras import backend as K"
      ],
      "execution_count": 2,
      "outputs": [
        {
          "output_type": "stream",
          "text": [
            "Using TensorFlow backend.\n"
          ],
          "name": "stderr"
        }
      ]
    },
    {
      "cell_type": "code",
      "metadata": {
        "id": "ywT0Lr0ufaR_",
        "colab_type": "code",
        "colab": {
          "base_uri": "https://localhost:8080/",
          "height": 34
        },
        "outputId": "97cadb7c-f24c-4f94-efe5-b21791831b2f"
      },
      "source": [
        "%pylab inline\n",
        "from matplotlib import pyplot as plt\n",
        "import matplotlib.image as img"
      ],
      "execution_count": 3,
      "outputs": [
        {
          "output_type": "stream",
          "text": [
            "Populating the interactive namespace from numpy and matplotlib\n"
          ],
          "name": "stdout"
        }
      ]
    },
    {
      "cell_type": "code",
      "metadata": {
        "id": "52hyjZJ-fc-A",
        "colab_type": "code",
        "colab": {}
      },
      "source": [
        "train_data = pd.read_csv('train.csv')"
      ],
      "execution_count": 0,
      "outputs": []
    },
    {
      "cell_type": "code",
      "metadata": {
        "id": "6tu_fHRrfhQE",
        "colab_type": "code",
        "colab": {
          "base_uri": "https://localhost:8080/",
          "height": 34
        },
        "outputId": "9034f678-1944-4f10-f49d-339edd028128"
      },
      "source": [
        "train_data.shape"
      ],
      "execution_count": 14,
      "outputs": [
        {
          "output_type": "execute_result",
          "data": {
            "text/plain": [
              "(42000, 785)"
            ]
          },
          "metadata": {
            "tags": []
          },
          "execution_count": 14
        }
      ]
    },
    {
      "cell_type": "code",
      "metadata": {
        "id": "9fAWTiRMfjys",
        "colab_type": "code",
        "colab": {}
      },
      "source": [
        "train_data = np.array(train_data)"
      ],
      "execution_count": 0,
      "outputs": []
    },
    {
      "cell_type": "code",
      "metadata": {
        "id": "HjsS_0kOg_wY",
        "colab_type": "code",
        "colab": {
          "base_uri": "https://localhost:8080/",
          "height": 168
        },
        "outputId": "06fb1def-cba1-4bef-e943-145b34c4f54c"
      },
      "source": [
        "# Extracting the Correct Images from the Train file\n",
        "images_file = []\n",
        "\n",
        "for y in range(train_data.shape[0]):\n",
        "    if y%5000 == 0:\n",
        "        print('This Many is Reshaped: ' + str(y))\n",
        "    current_image = np.zeros((28,28))\n",
        "    for x in range(1,784):\n",
        "            i = x//28\n",
        "            j = x%28\n",
        "            current_image[i,j] = train_data[y,x]\n",
        "    images_file.append(current_image)"
      ],
      "execution_count": 16,
      "outputs": [
        {
          "output_type": "stream",
          "text": [
            "This Many is Reshaped: 0\n",
            "This Many is Reshaped: 5000\n",
            "This Many is Reshaped: 10000\n",
            "This Many is Reshaped: 15000\n",
            "This Many is Reshaped: 20000\n",
            "This Many is Reshaped: 25000\n",
            "This Many is Reshaped: 30000\n",
            "This Many is Reshaped: 35000\n",
            "This Many is Reshaped: 40000\n"
          ],
          "name": "stdout"
        }
      ]
    },
    {
      "cell_type": "code",
      "metadata": {
        "id": "ZVLzXcHYhXcB",
        "colab_type": "code",
        "colab": {
          "base_uri": "https://localhost:8080/",
          "height": 34
        },
        "outputId": "9bcfa951-91d8-43ab-acd5-54a47c9cfa7b"
      },
      "source": [
        "len(images_file)"
      ],
      "execution_count": 17,
      "outputs": [
        {
          "output_type": "execute_result",
          "data": {
            "text/plain": [
              "42000"
            ]
          },
          "metadata": {
            "tags": []
          },
          "execution_count": 17
        }
      ]
    },
    {
      "cell_type": "code",
      "metadata": {
        "id": "sVrRhIpShZEX",
        "colab_type": "code",
        "colab": {
          "base_uri": "https://localhost:8080/",
          "height": 34
        },
        "outputId": "72ff99ba-5c24-4960-95e3-089245748657"
      },
      "source": [
        "train_data[120,0]"
      ],
      "execution_count": 18,
      "outputs": [
        {
          "output_type": "execute_result",
          "data": {
            "text/plain": [
              "7"
            ]
          },
          "metadata": {
            "tags": []
          },
          "execution_count": 18
        }
      ]
    },
    {
      "cell_type": "code",
      "metadata": {
        "id": "icLS2-ZAhcVx",
        "colab_type": "code",
        "colab": {
          "base_uri": "https://localhost:8080/",
          "height": 286
        },
        "outputId": "6224afe9-befc-4d3f-bd01-89d4c71de303"
      },
      "source": [
        "plt.imshow(images_file[120])"
      ],
      "execution_count": 19,
      "outputs": [
        {
          "output_type": "execute_result",
          "data": {
            "text/plain": [
              "<matplotlib.image.AxesImage at 0x7fc03db32438>"
            ]
          },
          "metadata": {
            "tags": []
          },
          "execution_count": 19
        },
        {
          "output_type": "display_data",
          "data": {
            "image/png": "[encoded data removed]",
            "text/plain": [
              "<Figure size 432x288 with 1 Axes>"
            ]
          },
          "metadata": {
            "tags": []
          }
        }
      ]
    },
    {
      "cell_type": "code",
      "metadata": {
        "id": "1KsHjVKMhdpq",
        "colab_type": "code",
        "colab": {
          "base_uri": "https://localhost:8080/",
          "height": 34
        },
        "outputId": "17183b80-f187-4515-c782-36041e5b511f"
      },
      "source": [
        "x_train = np.array(images_file)\n",
        "x_train.shape"
      ],
      "execution_count": 121,
      "outputs": [
        {
          "output_type": "execute_result",
          "data": {
            "text/plain": [
              "(42000, 28, 28)"
            ]
          },
          "metadata": {
            "tags": []
          },
          "execution_count": 121
        }
      ]
    },
    {
      "cell_type": "code",
      "metadata": {
        "id": "lwnSAP8Jhg50",
        "colab_type": "code",
        "colab": {}
      },
      "source": [
        "y_train = np.array(train_data[:,0])\n",
        "batch_size = 128\n",
        "num_classes = 10\n",
        "epochs = 20"
      ],
      "execution_count": 0,
      "outputs": []
    },
    {
      "cell_type": "code",
      "metadata": {
        "id": "iSeLvbxKhi1B",
        "colab_type": "code",
        "colab": {}
      },
      "source": [
        "from sklearn.model_selection import train_test_split"
      ],
      "execution_count": 0,
      "outputs": []
    },
    {
      "cell_type": "code",
      "metadata": {
        "id": "6bpLbqkLhkq0",
        "colab_type": "code",
        "colab": {}
      },
      "source": [
        "x_train,x_test,y_train,y_test = train_test_split(x_train,y_train,test_size = 0.1,shuffle = False)"
      ],
      "execution_count": 0,
      "outputs": []
    },
    {
      "cell_type": "code",
      "metadata": {
        "id": "BZn9cwrphofD",
        "colab_type": "code",
        "colab": {}
      },
      "source": [
        "img_rows, img_cols = 28, 28\n",
        "if K.image_data_format() == 'channels_first':\n",
        "    x_train = x_train.reshape(x_train.shape[0], 1, img_rows, img_cols)\n",
        "    x_test = x_test.reshape(x_test.shape[0], 1, img_rows, img_cols)\n",
        "    input_shape = (1, img_rows, img_cols)\n",
        "else:\n",
        "    x_train = x_train.reshape(x_train.shape[0], img_rows, img_cols, 1)\n",
        "    x_test = x_test.reshape(x_test.shape[0], img_rows, img_cols, 1)\n",
        "    input_shape = (img_rows, img_cols, 1)"
      ],
      "execution_count": 0,
      "outputs": []
    },
    {
      "cell_type": "code",
      "metadata": {
        "id": "1xyiEByGhr9K",
        "colab_type": "code",
        "colab": {
          "base_uri": "https://localhost:8080/",
          "height": 84
        },
        "outputId": "a47e5215-2623-4ff5-97bb-216f615c49aa"
      },
      "source": [
        "x_train = x_train.astype('float32')\n",
        "x_test = x_test.astype('float32')\n",
        "x_train /= 255\n",
        "x_test /= 255\n",
        "print('x_train shape:', x_train.shape)\n",
        "print(x_train.shape[0], 'train samples')\n",
        "print('x_test shape:', x_test.shape)\n",
        "print(x_test.shape[0], 'test samples')"
      ],
      "execution_count": 125,
      "outputs": [
        {
          "output_type": "stream",
          "text": [
            "x_train shape: (37800, 28, 28, 1)\n",
            "37800 train samples\n",
            "x_test shape: (4200, 28, 28, 1)\n",
            "4200 test samples\n"
          ],
          "name": "stdout"
        }
      ]
    },
    {
      "cell_type": "code",
      "metadata": {
        "id": "hpqQHwm_huSQ",
        "colab_type": "code",
        "colab": {}
      },
      "source": [
        "y_train = keras.utils.to_categorical(y_train, num_classes)\n",
        "y_test = keras.utils.to_categorical(y_test, num_classes)"
      ],
      "execution_count": 0,
      "outputs": []
    },
    {
      "cell_type": "code",
      "metadata": {
        "id": "aSho46dKhxmO",
        "colab_type": "code",
        "colab": {
          "base_uri": "https://localhost:8080/",
          "height": 34
        },
        "outputId": "1dcab24d-8f71-40ce-e060-91281b87a66e"
      },
      "source": [
        "train_data[0,0]"
      ],
      "execution_count": 127,
      "outputs": [
        {
          "output_type": "execute_result",
          "data": {
            "text/plain": [
              "1"
            ]
          },
          "metadata": {
            "tags": []
          },
          "execution_count": 127
        }
      ]
    },
    {
      "cell_type": "code",
      "metadata": {
        "id": "fdTemm05hywj",
        "colab_type": "code",
        "colab": {
          "base_uri": "https://localhost:8080/",
          "height": 34
        },
        "outputId": "d9357377-2632-4f49-d5ba-8d6d8f71c3be"
      },
      "source": [
        "y_train[0]"
      ],
      "execution_count": 75,
      "outputs": [
        {
          "output_type": "execute_result",
          "data": {
            "text/plain": [
              "array([0., 1., 0., 0., 0., 0., 0., 0., 0., 0.], dtype=float32)"
            ]
          },
          "metadata": {
            "tags": []
          },
          "execution_count": 75
        }
      ]
    },
    {
      "cell_type": "code",
      "metadata": {
        "id": "JV2GNkBt0ITF",
        "colab_type": "code",
        "colab": {}
      },
      "source": [
        "epochs = 50"
      ],
      "execution_count": 0,
      "outputs": []
    },
    {
      "cell_type": "code",
      "metadata": {
        "id": "ejtjpBHQh1Az",
        "colab_type": "code",
        "colab": {}
      },
      "source": [
        "model = Sequential()\n",
        "\n",
        "model.add(Conv2D(16, kernel_size=(3, 3),\n",
        "                 activation='relu',\n",
        "                 input_shape=input_shape))\n",
        "model.add(Conv2D(16,kernel_size=(3,3), activation='relu'))\n",
        "model.add(MaxPooling2D(pool_size = (2,2)))\n",
        "model.add(Dropout(0.25))\n",
        "\n",
        "model.add(Conv2D(32, (3, 3), activation='relu'))\n",
        "model.add(Conv2D(32,(3,3), activation = 'relu'))\n",
        "model.add(MaxPooling2D(pool_size=(2, 2)))\n",
        "model.add(Dropout(0.25))\n",
        "\n",
        "model.add(Conv2D(64, (3, 3), activation='relu'))\n",
        "model.add(MaxPooling2D(pool_size=(2, 2)))\n",
        "model.add(Dropout(0.25))\n",
        "\n",
        "model.add(Flatten())\n",
        "model.add(Dense(1024, activation='relu'))\n",
        "model.add(Dropout(0.5))\n",
        "model.add(Dense(num_classes, activation='softmax'))\n",
        "\n",
        "model.compile(loss=keras.losses.categorical_crossentropy,\n",
        "              optimizer=keras.optimizers.Adadelta(),\n",
        "              metrics=['accuracy'])\n",
        "#optimizer = keras.optimizers.SGD()\n",
        "#model.compile(loss = keras.losses.categorical_crossentropy,\n",
        "              #optimizer = optimizer,\n",
        "              #metrics = ['accuracy'])\n"
      ],
      "execution_count": 0,
      "outputs": []
    },
    {
      "cell_type": "code",
      "metadata": {
        "id": "TdyJ3MY6h4ZK",
        "colab_type": "code",
        "colab": {
          "base_uri": "https://localhost:8080/",
          "height": 1000
        },
        "outputId": "d9b54737-c4ad-4b67-9bca-819b1e461596"
      },
      "source": [
        "model.fit(x_train, y_train,\n",
        "          batch_size=batch_size,\n",
        "          epochs=epochs,\n",
        "          verbose=1,\n",
        "          validation_data=(x_test, y_test))"
      ],
      "execution_count": 138,
      "outputs": [
        {
          "output_type": "stream",
          "text": [
            "Train on 37800 samples, validate on 4200 samples\n",
            "Epoch 1/50\n",
            "37800/37800 [==============================] - 9s 232us/step - loss: 0.7835 - acc: 0.7353 - val_loss: 0.1348 - val_acc: 0.9581\n",
            "Epoch 2/50\n",
            "37800/37800 [==============================] - 6s 147us/step - loss: 0.1846 - acc: 0.9425 - val_loss: 0.0792 - val_acc: 0.9750\n",
            "Epoch 3/50\n",
            "37800/37800 [==============================] - 6s 146us/step - loss: 0.1274 - acc: 0.9620 - val_loss: 0.0574 - val_acc: 0.9831\n",
            "Epoch 4/50\n",
            "37800/37800 [==============================] - 6s 146us/step - loss: 0.1032 - acc: 0.9678 - val_loss: 0.0489 - val_acc: 0.9845\n",
            "Epoch 5/50\n",
            "37800/37800 [==============================] - 5s 145us/step - loss: 0.0910 - acc: 0.9728 - val_loss: 0.0460 - val_acc: 0.9867\n",
            "Epoch 6/50\n",
            "37800/37800 [==============================] - 5s 145us/step - loss: 0.0788 - acc: 0.9765 - val_loss: 0.0436 - val_acc: 0.9867\n",
            "Epoch 7/50\n",
            "37800/37800 [==============================] - 5s 144us/step - loss: 0.0716 - acc: 0.9786 - val_loss: 0.0377 - val_acc: 0.9879\n",
            "Epoch 8/50\n",
            "37800/37800 [==============================] - 6s 146us/step - loss: 0.0680 - acc: 0.9801 - val_loss: 0.0353 - val_acc: 0.9890\n",
            "Epoch 9/50\n",
            "37800/37800 [==============================] - 5s 142us/step - loss: 0.0625 - acc: 0.9805 - val_loss: 0.0315 - val_acc: 0.9888\n",
            "Epoch 10/50\n",
            "37800/37800 [==============================] - 6s 146us/step - loss: 0.0580 - acc: 0.9822 - val_loss: 0.0316 - val_acc: 0.9890\n",
            "Epoch 11/50\n",
            "37800/37800 [==============================] - 5s 145us/step - loss: 0.0536 - acc: 0.9842 - val_loss: 0.0300 - val_acc: 0.9900\n",
            "Epoch 12/50\n",
            "37800/37800 [==============================] - 5s 143us/step - loss: 0.0537 - acc: 0.9841 - val_loss: 0.0285 - val_acc: 0.9907\n",
            "Epoch 13/50\n",
            "37800/37800 [==============================] - 5s 143us/step - loss: 0.0476 - acc: 0.9859 - val_loss: 0.0236 - val_acc: 0.9929\n",
            "Epoch 14/50\n",
            "37800/37800 [==============================] - 6s 146us/step - loss: 0.0504 - acc: 0.9853 - val_loss: 0.0245 - val_acc: 0.9933\n",
            "Epoch 15/50\n",
            "37800/37800 [==============================] - 5s 143us/step - loss: 0.0458 - acc: 0.9861 - val_loss: 0.0344 - val_acc: 0.9905\n",
            "Epoch 16/50\n",
            "37800/37800 [==============================] - 5s 144us/step - loss: 0.0449 - acc: 0.9867 - val_loss: 0.0244 - val_acc: 0.9914\n",
            "Epoch 17/50\n",
            "37800/37800 [==============================] - 5s 142us/step - loss: 0.0429 - acc: 0.9868 - val_loss: 0.0241 - val_acc: 0.9924\n",
            "Epoch 18/50\n",
            "37800/37800 [==============================] - 5s 143us/step - loss: 0.0422 - acc: 0.9879 - val_loss: 0.0307 - val_acc: 0.9898\n",
            "Epoch 19/50\n",
            "37800/37800 [==============================] - 5s 139us/step - loss: 0.0384 - acc: 0.9886 - val_loss: 0.0254 - val_acc: 0.9936\n",
            "Epoch 20/50\n",
            "37800/37800 [==============================] - 5s 138us/step - loss: 0.0398 - acc: 0.9879 - val_loss: 0.0216 - val_acc: 0.9933\n",
            "Epoch 21/50\n",
            "37800/37800 [==============================] - 5s 138us/step - loss: 0.0387 - acc: 0.9878 - val_loss: 0.0216 - val_acc: 0.9926\n",
            "Epoch 22/50\n",
            "37800/37800 [==============================] - 5s 139us/step - loss: 0.0372 - acc: 0.9886 - val_loss: 0.0219 - val_acc: 0.9933\n",
            "Epoch 23/50\n",
            "37800/37800 [==============================] - 5s 138us/step - loss: 0.0362 - acc: 0.9893 - val_loss: 0.0228 - val_acc: 0.9919\n",
            "Epoch 24/50\n",
            "37800/37800 [==============================] - 5s 136us/step - loss: 0.0355 - acc: 0.9896 - val_loss: 0.0231 - val_acc: 0.9931\n",
            "Epoch 25/50\n",
            "37800/37800 [==============================] - 5s 137us/step - loss: 0.0331 - acc: 0.9902 - val_loss: 0.0198 - val_acc: 0.9929\n",
            "Epoch 26/50\n",
            "37800/37800 [==============================] - 5s 136us/step - loss: 0.0306 - acc: 0.9904 - val_loss: 0.0225 - val_acc: 0.9931\n",
            "Epoch 27/50\n",
            "37800/37800 [==============================] - 5s 137us/step - loss: 0.0309 - acc: 0.9906 - val_loss: 0.0241 - val_acc: 0.9931\n",
            "Epoch 28/50\n",
            "37800/37800 [==============================] - 5s 139us/step - loss: 0.0329 - acc: 0.9896 - val_loss: 0.0280 - val_acc: 0.9926\n",
            "Epoch 29/50\n",
            "37800/37800 [==============================] - 5s 137us/step - loss: 0.0315 - acc: 0.9906 - val_loss: 0.0220 - val_acc: 0.9926\n",
            "Epoch 30/50\n",
            "37800/37800 [==============================] - 5s 137us/step - loss: 0.0304 - acc: 0.9909 - val_loss: 0.0211 - val_acc: 0.9926\n",
            "Epoch 31/50\n",
            "37800/37800 [==============================] - 5s 140us/step - loss: 0.0312 - acc: 0.9900 - val_loss: 0.0202 - val_acc: 0.9938\n",
            "Epoch 32/50\n",
            "37800/37800 [==============================] - 5s 140us/step - loss: 0.0275 - acc: 0.9912 - val_loss: 0.0207 - val_acc: 0.9943\n",
            "Epoch 33/50\n",
            "37800/37800 [==============================] - 5s 135us/step - loss: 0.0295 - acc: 0.9910 - val_loss: 0.0214 - val_acc: 0.9936\n",
            "Epoch 34/50\n",
            "37800/37800 [==============================] - 5s 137us/step - loss: 0.0277 - acc: 0.9915 - val_loss: 0.0176 - val_acc: 0.9943\n",
            "Epoch 35/50\n",
            "37800/37800 [==============================] - 5s 137us/step - loss: 0.0240 - acc: 0.9928 - val_loss: 0.0196 - val_acc: 0.9943\n",
            "Epoch 36/50\n",
            "37800/37800 [==============================] - 5s 136us/step - loss: 0.0258 - acc: 0.9915 - val_loss: 0.0179 - val_acc: 0.9938\n",
            "Epoch 37/50\n",
            "37800/37800 [==============================] - 5s 140us/step - loss: 0.0251 - acc: 0.9925 - val_loss: 0.0210 - val_acc: 0.9938\n",
            "Epoch 38/50\n",
            "37800/37800 [==============================] - 5s 138us/step - loss: 0.0263 - acc: 0.9917 - val_loss: 0.0192 - val_acc: 0.9943\n",
            "Epoch 39/50\n",
            "37800/37800 [==============================] - 5s 138us/step - loss: 0.0256 - acc: 0.9923 - val_loss: 0.0185 - val_acc: 0.9945\n",
            "Epoch 40/50\n",
            "37800/37800 [==============================] - 5s 139us/step - loss: 0.0273 - acc: 0.9916 - val_loss: 0.0173 - val_acc: 0.9940\n",
            "Epoch 41/50\n",
            "37800/37800 [==============================] - 5s 138us/step - loss: 0.0254 - acc: 0.9920 - val_loss: 0.0204 - val_acc: 0.9938\n",
            "Epoch 42/50\n",
            "37800/37800 [==============================] - 5s 137us/step - loss: 0.0251 - acc: 0.9920 - val_loss: 0.0184 - val_acc: 0.9952\n",
            "Epoch 43/50\n",
            "37800/37800 [==============================] - 5s 136us/step - loss: 0.0222 - acc: 0.9930 - val_loss: 0.0204 - val_acc: 0.9943\n",
            "Epoch 44/50\n",
            "37800/37800 [==============================] - 5s 137us/step - loss: 0.0243 - acc: 0.9923 - val_loss: 0.0172 - val_acc: 0.9955\n",
            "Epoch 45/50\n",
            "37800/37800 [==============================] - 5s 139us/step - loss: 0.0249 - acc: 0.9926 - val_loss: 0.0209 - val_acc: 0.9943\n",
            "Epoch 46/50\n",
            "37800/37800 [==============================] - 5s 141us/step - loss: 0.0251 - acc: 0.9925 - val_loss: 0.0178 - val_acc: 0.9945\n",
            "Epoch 47/50\n",
            "37800/37800 [==============================] - 5s 137us/step - loss: 0.0247 - acc: 0.9919 - val_loss: 0.0221 - val_acc: 0.9938\n",
            "Epoch 48/50\n",
            "37800/37800 [==============================] - 5s 137us/step - loss: 0.0220 - acc: 0.9933 - val_loss: 0.0172 - val_acc: 0.9952\n",
            "Epoch 49/50\n",
            "37800/37800 [==============================] - 5s 137us/step - loss: 0.0223 - acc: 0.9928 - val_loss: 0.0212 - val_acc: 0.9943\n",
            "Epoch 50/50\n",
            "37800/37800 [==============================] - 5s 138us/step - loss: 0.0219 - acc: 0.9935 - val_loss: 0.0191 - val_acc: 0.9950\n"
          ],
          "name": "stdout"
        },
        {
          "output_type": "execute_result",
          "data": {
            "text/plain": [
              "<keras.callbacks.History at 0x7fbfeb94eda0>"
            ]
          },
          "metadata": {
            "tags": []
          },
          "execution_count": 138
        }
      ]
    },
    {
      "cell_type": "code",
      "metadata": {
        "id": "YQhVdwybjH5f",
        "colab_type": "code",
        "colab": {
          "base_uri": "https://localhost:8080/",
          "height": 34
        },
        "outputId": "0b8430a1-0048-4963-ea50-ea915d9daada"
      },
      "source": [
        "test_data = pd.read_csv('test.csv')\n",
        "test_data = np.array(test_data)\n",
        "test_data.shape"
      ],
      "execution_count": 103,
      "outputs": [
        {
          "output_type": "execute_result",
          "data": {
            "text/plain": [
              "(28000, 784)"
            ]
          },
          "metadata": {
            "tags": []
          },
          "execution_count": 103
        }
      ]
    },
    {
      "cell_type": "code",
      "metadata": {
        "id": "n-0PnZizjMop",
        "colab_type": "code",
        "colab": {
          "base_uri": "https://localhost:8080/",
          "height": 118
        },
        "outputId": "c1282e40-2646-4048-bfb3-baf075862dc0"
      },
      "source": [
        "# Extracting the Correct Images from the Train file\n",
        "images_file_test = []\n",
        "\n",
        "for y in range(test_data.shape[0]):\n",
        "    if y%5000 == 0:\n",
        "        print('This Many is Reshaped: ' + str(y))\n",
        "    current_image = np.zeros((28,28))\n",
        "    for x in range(1,784):\n",
        "            i = x//28\n",
        "            j = x%28\n",
        "            current_image[i,j] = test_data[y,x]\n",
        "    images_file_test.append(current_image)"
      ],
      "execution_count": 105,
      "outputs": [
        {
          "output_type": "stream",
          "text": [
            "This Many is Reshaped: 0\n",
            "This Many is Reshaped: 5000\n",
            "This Many is Reshaped: 10000\n",
            "This Many is Reshaped: 15000\n",
            "This Many is Reshaped: 20000\n",
            "This Many is Reshaped: 25000\n"
          ],
          "name": "stdout"
        }
      ]
    },
    {
      "cell_type": "code",
      "metadata": {
        "id": "Pupf44N4jUN4",
        "colab_type": "code",
        "colab": {
          "base_uri": "https://localhost:8080/",
          "height": 34
        },
        "outputId": "0e34ec28-99c4-4fb1-9ed6-4ab8420e87f6"
      },
      "source": [
        "test_data = np.array(images_file_test)\n",
        "test_data.shape"
      ],
      "execution_count": 106,
      "outputs": [
        {
          "output_type": "execute_result",
          "data": {
            "text/plain": [
              "(28000, 28, 28)"
            ]
          },
          "metadata": {
            "tags": []
          },
          "execution_count": 106
        }
      ]
    },
    {
      "cell_type": "code",
      "metadata": {
        "id": "CtkBtQ-YjWan",
        "colab_type": "code",
        "colab": {}
      },
      "source": [
        "img_rows, img_cols = 28, 28\n",
        "if K.image_data_format() == 'channels_first':\n",
        "    test_data = test_data.reshape(test_data.shape[0], 1, img_rows, img_cols)\n",
        "    input_shape = (1, img_rows, img_cols)\n",
        "else:\n",
        "    test_data = test_data.reshape(test_data.shape[0], img_rows, img_cols, 1)\n",
        "    input_shape = (img_rows, img_cols, 1)"
      ],
      "execution_count": 0,
      "outputs": []
    },
    {
      "cell_type": "code",
      "metadata": {
        "id": "TODh9xYRjYq3",
        "colab_type": "code",
        "colab": {}
      },
      "source": [
        "test_data = test_data.astype('float32')\n",
        "test_data /= 255"
      ],
      "execution_count": 0,
      "outputs": []
    },
    {
      "cell_type": "code",
      "metadata": {
        "id": "aybtLpUHjazQ",
        "colab_type": "code",
        "colab": {}
      },
      "source": [
        "predicted_answers = model.predict(test_data)"
      ],
      "execution_count": 0,
      "outputs": []
    },
    {
      "cell_type": "code",
      "metadata": {
        "id": "tjh1cHO3jdxJ",
        "colab_type": "code",
        "colab": {
          "base_uri": "https://localhost:8080/",
          "height": 286
        },
        "outputId": "f8816265-83a1-443c-aa7e-0a7172cf4f3a"
      },
      "source": [
        "plt.plot(predicted_answers[0])"
      ],
      "execution_count": 110,
      "outputs": [
        {
          "output_type": "execute_result",
          "data": {
            "text/plain": [
              "[<matplotlib.lines.Line2D at 0x7fbfec3fcbe0>]"
            ]
          },
          "metadata": {
            "tags": []
          },
          "execution_count": 110
        },
        {
          "output_type": "display_data",
          "data": {
            "image/png": "[encoded data removed]",
            "text/plain": [
              "<Figure size 432x288 with 1 Axes>"
            ]
          },
          "metadata": {
            "tags": []
          }
        }
      ]
    },
    {
      "cell_type": "code",
      "metadata": {
        "id": "A-qrmrgbjgZ6",
        "colab_type": "code",
        "colab": {
          "base_uri": "https://localhost:8080/",
          "height": 34
        },
        "outputId": "2995c970-40c3-489b-a2b7-3be016561103"
      },
      "source": [
        "np.argmax(predicted_answers[0])"
      ],
      "execution_count": 111,
      "outputs": [
        {
          "output_type": "execute_result",
          "data": {
            "text/plain": [
              "2"
            ]
          },
          "metadata": {
            "tags": []
          },
          "execution_count": 111
        }
      ]
    },
    {
      "cell_type": "code",
      "metadata": {
        "id": "NId1aaqjjieY",
        "colab_type": "code",
        "colab": {
          "base_uri": "https://localhost:8080/",
          "height": 336
        },
        "outputId": "3627e170-45fd-416e-e70a-b9ad9e9ef1cb"
      },
      "source": [
        "final_labels = [np.argmax(i) for i in predicted_answers]\n",
        "plt.hist(final_labels)"
      ],
      "execution_count": 112,
      "outputs": [
        {
          "output_type": "execute_result",
          "data": {
            "text/plain": [
              "(array([2761., 3181., 2812., 2770., 2727., 2535., 2739., 2895., 2791.,\n",
              "        2789.]),\n",
              " array([0. , 0.9, 1.8, 2.7, 3.6, 4.5, 5.4, 6.3, 7.2, 8.1, 9. ]),\n",
              " <a list of 10 Patch objects>)"
            ]
          },
          "metadata": {
            "tags": []
          },
          "execution_count": 112
        },
        {
          "output_type": "display_data",
          "data": {
            "image/png": "[encoded data removed]",
            "text/plain": [
              "<Figure size 432x288 with 1 Axes>"
            ]
          },
          "metadata": {
            "tags": []
          }
        }
      ]
    },
    {
      "cell_type": "code",
      "metadata": {
        "id": "-frAXoW4jmaU",
        "colab_type": "code",
        "colab": {
          "base_uri": "https://localhost:8080/",
          "height": 195
        },
        "outputId": "d24e1445-ec3b-4667-c169-4a793fa432fa"
      },
      "source": [
        "submission_file = pd.DataFrame()\n",
        "submission_file['ImageId'] = np.arange(1,28001)\n",
        "submission_file['Label']   = final_labels\n",
        "submission_file.head()"
      ],
      "execution_count": 113,
      "outputs": [
        {
          "output_type": "execute_result",
          "data": {
            "text/html": [
              "<div>\n",
              "<style scoped>\n",
              "    .dataframe tbody tr th:only-of-type {\n",
              "        vertical-align: middle;\n",
              "    }\n",
              "\n",
              "    .dataframe tbody tr th {\n",
              "        vertical-align: top;\n",
              "    }\n",
              "\n",
              "    .dataframe thead th {\n",
              "        text-align: right;\n",
              "    }\n",
              "</style>\n",
              "<table border=\"1\" class=\"dataframe\">\n",
              "  <thead>\n",
              "    <tr style=\"text-align: right;\">\n",
              "      <th></th>\n",
              "      <th>ImageId</th>\n",
              "      <th>Label</th>\n",
              "    </tr>\n",
              "  </thead>\n",
              "  <tbody>\n",
              "    <tr>\n",
              "      <th>0</th>\n",
              "      <td>1</td>\n",
              "      <td>2</td>\n",
              "    </tr>\n",
              "    <tr>\n",
              "      <th>1</th>\n",
              "      <td>2</td>\n",
              "      <td>0</td>\n",
              "    </tr>\n",
              "    <tr>\n",
              "      <th>2</th>\n",
              "      <td>3</td>\n",
              "      <td>9</td>\n",
              "    </tr>\n",
              "    <tr>\n",
              "      <th>3</th>\n",
              "      <td>4</td>\n",
              "      <td>9</td>\n",
              "    </tr>\n",
              "    <tr>\n",
              "      <th>4</th>\n",
              "      <td>5</td>\n",
              "      <td>3</td>\n",
              "    </tr>\n",
              "  </tbody>\n",
              "</table>\n",
              "</div>"
            ],
            "text/plain": [
              "   ImageId  Label\n",
              "0        1      2\n",
              "1        2      0\n",
              "2        3      9\n",
              "3        4      9\n",
              "4        5      3"
            ]
          },
          "metadata": {
            "tags": []
          },
          "execution_count": 113
        }
      ]
    },
    {
      "cell_type": "code",
      "metadata": {
        "id": "sE4bCRswjn90",
        "colab_type": "code",
        "colab": {}
      },
      "source": [
        "submission_file.to_csv('sample_submission.csv',index = False)"
      ],
      "execution_count": 0,
      "outputs": []
    }
  ]
}